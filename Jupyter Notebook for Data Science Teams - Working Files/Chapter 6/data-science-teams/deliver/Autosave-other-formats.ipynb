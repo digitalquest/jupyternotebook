{
 "cells": [
  {
   "cell_type": "markdown",
   "metadata": {},
   "source": [
    "```bash\n",
    "jupyter notebook --generate-config\n",
    "```\n",
    "\n",
    "```bash\n",
    "JUPYTER_CONFIG_DIR=~/.jupyter_save jupyter notebook --generate-config\n",
    "```"
   ]
  },
  {
   "cell_type": "markdown",
   "metadata": {},
   "source": [
    "http://bit.ly/jupyter_profile\n",
    "\n",
    "```python\n",
    "c = get_config()\n",
    "### If you want to auto-save .html and .py versions of your notebook:\n",
    "# modified from: https://github.com/ipython/ipython/issues/8009\n",
    "import os\n",
    "from subprocess import check_call\n",
    "\n",
    "def post_save(model, os_path, contents_manager):\n",
    "    \"\"\"post-save hook for converting notebooks to .py scripts\"\"\"\n",
    "    if model['type'] != 'notebook':\n",
    "        return # only do this for notebooks\n",
    "    d, fname = os.path.split(os_path)\n",
    "    check_call(['ipython', 'nbconvert', '--to', 'script', fname], cwd=d)\n",
    "    check_call(['ipython', 'nbconvert', '--to', 'html', fname], cwd=d)\n",
    "\n",
    "c.FileContentsManager.post_save_hook = post_save\n",
    "```"
   ]
  },
  {
   "cell_type": "code",
   "execution_count": 1,
   "metadata": {
    "collapsed": false
   },
   "outputs": [
    {
     "name": "stdout",
     "output_type": "stream",
     "text": [
      "Autosave-other-formats.ipynb     Restaurant_Inspection_Scores.csv\r\n",
      "Environment setup.ipynb          SQL-Example.ipynb\r\n",
      "Interactive.ipynb                presidents.sqlite\r\n",
      "Notebook Extensions.ipynb        \u001b[34mtemp\u001b[m\u001b[m\r\n",
      "Notes-Data_Science_Teams.ipynb\r\n"
     ]
    }
   ],
   "source": [
    "!ls"
   ]
  },
  {
   "cell_type": "code",
   "execution_count": 2,
   "metadata": {
    "collapsed": false
   },
   "outputs": [
    {
     "name": "stdout",
     "output_type": "stream",
     "text": [
      "Autosave-other-formats.html      Notes-Data_Science_Teams.ipynb\r\n",
      "Autosave-other-formats.ipynb     Restaurant_Inspection_Scores.csv\r\n",
      "Autosave-other-formats.py        SQL-Example.ipynb\r\n",
      "Environment setup.ipynb          presidents.sqlite\r\n",
      "Interactive.ipynb                \u001b[34mtemp\u001b[m\u001b[m\r\n",
      "Notebook Extensions.ipynb\r\n"
     ]
    }
   ],
   "source": [
    "!ls"
   ]
  },
  {
   "cell_type": "markdown",
   "metadata": {},
   "source": [
    "Open the file at ~/.jupyter_save/jupyter_notebook_config.py\n",
    "\n",
    "```bash\n",
    "alias jupyter_save='JUPYTER_CONFIG_DIR=~/.jupyter_save jupyter notebook'\n",
    "```"
   ]
  },
  {
   "cell_type": "code",
   "execution_count": null,
   "metadata": {
    "collapsed": true
   },
   "outputs": [],
   "source": []
  }
 ],
 "metadata": {
  "kernelspec": {
   "display_name": "Python 2",
   "language": "python",
   "name": "python2"
  },
  "language_info": {
   "codemirror_mode": {
    "name": "ipython",
    "version": 2
   },
   "file_extension": ".py",
   "mimetype": "text/x-python",
   "name": "python",
   "nbconvert_exporter": "python",
   "pygments_lexer": "ipython2",
   "version": "2.7.11"
  }
 },
 "nbformat": 4,
 "nbformat_minor": 0
}
