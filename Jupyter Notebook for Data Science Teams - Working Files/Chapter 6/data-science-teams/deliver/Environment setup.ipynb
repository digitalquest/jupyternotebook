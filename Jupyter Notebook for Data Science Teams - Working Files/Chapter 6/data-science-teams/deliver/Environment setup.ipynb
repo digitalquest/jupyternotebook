{
 "cells": [
  {
   "cell_type": "markdown",
   "metadata": {},
   "source": [
    "# Conda \n",
    "\n",
    "http://bit.ly/condaquickinstall"
   ]
  },
  {
   "cell_type": "markdown",
   "metadata": {},
   "source": [
    "```bash\n",
    "wget https://repo.continuum.io/miniconda/Miniconda-latest-MacOSX-x86_64.sh\n",
    "\n",
    "chmod +x Miniconda-latest-MacOSX-x86_64.sh\n",
    "\n",
    "# Agree to licenses\n",
    "./Miniconda-latest-MacOSX-x86_64.sh\n",
    "\n",
    "source ~/.bashrc\n",
    "```"
   ]
  },
  {
   "cell_type": "markdown",
   "metadata": {},
   "source": [
    "```bash\n",
    "conda update conda -y\n",
    "\n",
    "# Python 2\n",
    "conda create -n py2 python=2 anaconda jupyter notebook -y \n",
    "\n",
    "# Python 3\n",
    "conda create -n py3 python=3 anaconda jupyter notebook -y \n",
    "\n",
    "# Install R\n",
    "conda create -n jupyter_r -c r r-irkernel r-essentials r-recommended rpy2 -y \n",
    "```"
   ]
  },
  {
   "cell_type": "markdown",
   "metadata": {},
   "source": [
    "```bash\n",
    "source activate jupyter_r\n",
    "source deactivate\n",
    "\n",
    "conda env list\n",
    "```"
   ]
  },
  {
   "cell_type": "code",
   "execution_count": null,
   "metadata": {
    "collapsed": true
   },
   "outputs": [],
   "source": []
  }
 ],
 "metadata": {
  "kernelspec": {
   "display_name": "Python 2",
   "language": "python",
   "name": "python2"
  },
  "language_info": {
   "codemirror_mode": {
    "name": "ipython",
    "version": 2
   },
   "file_extension": ".py",
   "mimetype": "text/x-python",
   "name": "python",
   "nbconvert_exporter": "python",
   "pygments_lexer": "ipython2",
   "version": "2.7.11"
  }
 },
 "nbformat": 4,
 "nbformat_minor": 0
}
