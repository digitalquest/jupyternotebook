{
 "cells": [
  {
   "cell_type": "markdown",
   "metadata": {
    "collapsed": true,
    "slideshow": {
     "slide_type": "slide"
    }
   },
   "source": [
    "# Questions to ask to organize workflow"
   ]
  },
  {
   "cell_type": "markdown",
   "metadata": {
    "collapsed": true,
    "slideshow": {
     "slide_type": "slide"
    }
   },
   "source": [
    "- How many data scientists are working on one problem?\n"
   ]
  },
  {
   "cell_type": "markdown",
   "metadata": {
    "slideshow": {
     "slide_type": "fragment"
    }
   },
   "source": [
    " - Different data sources and problems? Different git repositories."
   ]
  },
  {
   "cell_type": "markdown",
   "metadata": {
    "slideshow": {
     "slide_type": "fragment"
    }
   },
   "source": [
    " - Less than 10 data scientists working on the same data but different problems? Same git repository."
   ]
  },
  {
   "cell_type": "markdown",
   "metadata": {
    "slideshow": {
     "slide_type": "fragment"
    }
   },
   "source": [
    " - More than 10 data scientists working on the same data but different problems? Different git repositories."
   ]
  },
  {
   "cell_type": "markdown",
   "metadata": {
    "slideshow": {
     "slide_type": "slide"
    }
   },
   "source": [
    "- How many data scientists are working on one problem?\n",
    " - Different data sources and problems? Different git repositories.\n",
    " - Less than 10 data scientists working on the same data but different problems? Same git repository.\n",
    " - .\n",
    " "
   ]
  },
  {
   "cell_type": "markdown",
   "metadata": {
    "slideshow": {
     "slide_type": "slide"
    }
   },
   "source": [
    "- How many data scientists are working on one problem?\n",
    " - Different data sources and problems? Different git repositories.\n",
    " - Less than 10 data scientists working on the same data but different problems? Same git repository.\n",
    " - More than 10 data scientists working on the same data but different problems? Different git repositories.\n",
    " "
   ]
  },
  {
   "cell_type": "markdown",
   "metadata": {
    "collapsed": true,
    "slideshow": {
     "slide_type": "slide"
    }
   },
   "source": [
    "- Where is the data hosted?\n",
    "  - Local laptop?\n",
    "   - Consider just doing your own Jupyter Notebook server locally.\n",
    "   \n",
    "  - Server? \n",
    "   - Can be accessed via SSH? Jupyter server running on server that you SSH tunnel into.\n",
    "   - Consider [JupyterHub](https://github.com/jupyter/jupyterhub).\n"
   ]
  },
  {
   "cell_type": "code",
   "execution_count": null,
   "metadata": {
    "collapsed": true,
    "slideshow": {
     "slide_type": "slide"
    }
   },
   "outputs": [],
   "source": []
  },
  {
   "cell_type": "markdown",
   "metadata": {
    "collapsed": true,
    "slideshow": {
     "slide_type": "slide"
    }
   },
   "source": [
    "# How to organize the work into two kinds of Notebooks\n",
    "\n",
    " - Laboratory\n",
    " - Deliverable"
   ]
  },
  {
   "cell_type": "markdown",
   "metadata": {
    "collapsed": true,
    "slideshow": {
     "slide_type": "slide"
    }
   },
   "source": [
    "## Lab Notebooks"
   ]
  },
  {
   "cell_type": "markdown",
   "metadata": {
    "slideshow": {
     "slide_type": "fragment"
    }
   },
   "source": [
    " - Keeps a historical record of the analysis explored"
   ]
  },
  {
   "cell_type": "markdown",
   "metadata": {
    "slideshow": {
     "slide_type": "fragment"
    }
   },
   "source": [
    " - Meant to be a development or scratch place"
   ]
  },
  {
   "cell_type": "markdown",
   "metadata": {
    "slideshow": {
     "slide_type": "fragment"
    }
   },
   "source": [
    " - Each notebook is controlled by a single Data Scientist"
   ]
  },
  {
   "cell_type": "markdown",
   "metadata": {
    "collapsed": true,
    "slideshow": {
     "slide_type": "slide"
    }
   },
   "source": [
    "## Lab Notebooks"
   ]
  },
  {
   "cell_type": "markdown",
   "metadata": {
    "slideshow": {
     "slide_type": "fragment"
    }
   },
   "source": [
    " - Split the notebooks when they get too long (turn the page)"
   ]
  },
  {
   "cell_type": "markdown",
   "metadata": {
    "collapsed": true,
    "slideshow": {
     "slide_type": "fragment"
    }
   },
   "source": [
    " - Split the notebooks by topic if it makes sense."
   ]
  },
  {
   "cell_type": "markdown",
   "metadata": {
    "slideshow": {
     "slide_type": "slide"
    }
   },
   "source": [
    "## Deliverable Notebooks"
   ]
  },
  {
   "cell_type": "markdown",
   "metadata": {
    "slideshow": {
     "slide_type": "fragment"
    }
   },
   "source": [
    " - Any Notebook that will be referenced in the future."
   ]
  },
  {
   "cell_type": "markdown",
   "metadata": {
    "slideshow": {
     "slide_type": "fragment"
    }
   },
   "source": [
    " - How raw data was transformed into cleaned data."
   ]
  },
  {
   "cell_type": "markdown",
   "metadata": {
    "slideshow": {
     "slide_type": "fragment"
    }
   },
   "source": [
    " - The fully polished and final outputs of the analysis."
   ]
  },
  {
   "cell_type": "markdown",
   "metadata": {
    "slideshow": {
     "slide_type": "slide"
    }
   },
   "source": [
    "## Deliverable Notebooks"
   ]
  },
  {
   "cell_type": "markdown",
   "metadata": {
    "slideshow": {
     "slide_type": "fragment"
    }
   },
   "source": [
    " - Peer reviewed via pull requests (other members will review before accepted)."
   ]
  },
  {
   "cell_type": "markdown",
   "metadata": {
    "collapsed": true,
    "slideshow": {
     "slide_type": "fragment"
    }
   },
   "source": [
    " - These notebooks are controlled by the whole Data Science team."
   ]
  },
  {
   "cell_type": "markdown",
   "metadata": {
    "slideshow": {
     "slide_type": "slide"
    }
   },
   "source": [
    "## Get organized -- High level directories"
   ]
  },
  {
   "cell_type": "markdown",
   "metadata": {
    "collapsed": true,
    "slideshow": {
     "slide_type": "fragment"
    }
   },
   "source": [
    " - `data` # Backed up outside of version control\n",
    " - `deliver` # Final polished Notebooks for consumption\n",
    " - `develop` # Lab Notebooks stored here\n",
    " - `figures` # \n",
    " - `src` # Scripts/modules stored here"
   ]
  },
  {
   "cell_type": "code",
   "execution_count": null,
   "metadata": {
    "collapsed": true,
    "slideshow": {
     "slide_type": "slide"
    }
   },
   "outputs": [],
   "source": []
  },
  {
   "cell_type": "code",
   "execution_count": null,
   "metadata": {
    "collapsed": true,
    "slideshow": {
     "slide_type": "slide"
    }
   },
   "outputs": [],
   "source": []
  },
  {
   "cell_type": "markdown",
   "metadata": {
    "collapsed": true,
    "slideshow": {
     "slide_type": "slide"
    }
   },
   "source": [
    "# Name the lab-notebooks with the following convention:\n",
    " - **[ISO 8601 date]**-[DS-initials]-[2-4 word description].ipynb\n",
    " - **2015-11-21**-JBW-coal-predict-RF-regression.ipynb"
   ]
  },
  {
   "cell_type": "markdown",
   "metadata": {
    "collapsed": true,
    "slideshow": {
     "slide_type": "slide"
    }
   },
   "source": [
    "# Name the lab-notebooks with the following convention:\n",
    " - [ISO 8601 date]-**[DS-initials]**-[2-4 word description].ipynb\n",
    " - 2015-11-21-**JBW**-coal-predict-RF-regression.ipynb"
   ]
  },
  {
   "cell_type": "markdown",
   "metadata": {
    "collapsed": true,
    "slideshow": {
     "slide_type": "slide"
    }
   },
   "source": [
    "# Name the lab-notebooks with the following convention:\n",
    " - [ISO 8601 date]-[DS-initials]-**[2-4 word description]**.ipynb\n",
    " - 2015-11-21-JBW-**coal-predict-RF-regression**.ipynb"
   ]
  },
  {
   "cell_type": "code",
   "execution_count": null,
   "metadata": {
    "collapsed": true,
    "slideshow": {
     "slide_type": "slide"
    }
   },
   "outputs": [],
   "source": []
  },
  {
   "cell_type": "markdown",
   "metadata": {
    "slideshow": {
     "slide_type": "slide"
    }
   },
   "source": [
    "## Version Control\n",
    "\n",
    "How do you peer review code and store analysis in version control?\n",
    "\n",
    "Further constraints: \n",
    "\n",
    " - Project manager who wants to see notebooks but doesn't want to install IPython\n",
    " - Not using Github which renders figure diffs nicely\n",
    " - Want to review the Python code itself"
   ]
  },
  {
   "cell_type": "markdown",
   "metadata": {
    "slideshow": {
     "slide_type": "slide"
    }
   },
   "source": [
    "## My Answer\n",
    "\n",
    " - Each Data Scientist has their own dev branch\n",
    " - Work is saved and pushed on dev branch daily\n",
    " - When ready to merge to master, pull request"
   ]
  },
  {
   "cell_type": "markdown",
   "metadata": {
    "slideshow": {
     "slide_type": "slide"
    }
   },
   "source": [
    "## What to commit?\n",
    "\n",
    " - .ipynb\n",
    " - .py\n",
    " - .html\n",
    " \n",
    "of all Notebooks (develop and deliver).\n",
    "\n",
    " - and figures\n"
   ]
  },
  {
   "cell_type": "markdown",
   "metadata": {
    "slideshow": {
     "slide_type": "slide"
    }
   },
   "source": [
    "# Benefits\n",
    "\n",
    " - Record of analysis including dead-ends\n",
    " - Ability to easily peer review analysis and dead-ends\n",
    " - Project managers can easily see and read the analysis with GitHub .ipynb or .html without installing ipython"
   ]
  },
  {
   "cell_type": "markdown",
   "metadata": {
    "slideshow": {
     "slide_type": "slide"
    }
   },
   "source": [
    "# Final organization thoughts\n",
    "\n",
    " - Organization of workflows in teams is difficult\n",
    " - Having some standards is better than none\n",
    " - Sometimes the \"wrong thing\" exactly solves a problem\n",
    " - Storing output figures\n",
    " - Having rendered .html files in commits\n",
    " - Open to new ideas -- have a better method let me know!"
   ]
  }
 ],
 "metadata": {
  "celltoolbar": "Slideshow",
  "kernelspec": {
   "display_name": "Python 2",
   "language": "python",
   "name": "python2"
  },
  "language_info": {
   "codemirror_mode": {
    "name": "ipython",
    "version": 2
   },
   "file_extension": ".py",
   "mimetype": "text/x-python",
   "name": "python",
   "nbconvert_exporter": "python",
   "pygments_lexer": "ipython2",
   "version": "2.7.10"
  }
 },
 "nbformat": 4,
 "nbformat_minor": 0
}
