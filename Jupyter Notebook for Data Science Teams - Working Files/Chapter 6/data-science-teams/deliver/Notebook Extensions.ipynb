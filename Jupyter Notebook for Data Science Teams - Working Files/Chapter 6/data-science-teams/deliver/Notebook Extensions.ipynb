{
 "cells": [
  {
   "cell_type": "markdown",
   "metadata": {
    "slideshow": {
     "slide_type": "slide"
    }
   },
   "source": [
    "# Notebook Extensions"
   ]
  },
  {
   "cell_type": "markdown",
   "metadata": {
    "slideshow": {
     "slide_type": "slide"
    }
   },
   "source": [
    "http://nicolas.kruchten.com/content/2015/09/jupyter_pivottablejs/\n",
    "\n",
    "https://data.austintexas.gov/\n",
    "\n"
   ]
  },
  {
   "cell_type": "code",
   "execution_count": 1,
   "metadata": {
    "collapsed": false,
    "slideshow": {
     "slide_type": "slide"
    }
   },
   "outputs": [
    {
     "name": "stdout",
     "output_type": "stream",
     "text": [
      "Hi\n"
     ]
    }
   ],
   "source": [
    "import pandas as pd\n",
    "import numpy as np\n",
    "\n",
    "from pivottablejs import pivot_ui\n",
    "print \"Hi\""
   ]
  },
  {
   "cell_type": "code",
   "execution_count": 2,
   "metadata": {
    "collapsed": true,
    "slideshow": {
     "slide_type": "slide"
    }
   },
   "outputs": [],
   "source": [
    "df = pd.read_csv(\"../data/Restaurant_Inspection_Scores.csv\")"
   ]
  },
  {
   "cell_type": "code",
   "execution_count": 3,
   "metadata": {
    "collapsed": false
   },
   "outputs": [
    {
     "data": {
      "text/html": [
       "<div>\n",
       "<table border=\"1\" class=\"dataframe\">\n",
       "  <thead>\n",
       "    <tr style=\"text-align: right;\">\n",
       "      <th></th>\n",
       "      <th>Restaurant Name</th>\n",
       "      <th>Zip Code</th>\n",
       "      <th>Inspection Date</th>\n",
       "      <th>Score</th>\n",
       "      <th>Address</th>\n",
       "      <th>Facility ID</th>\n",
       "      <th>Process Description</th>\n",
       "    </tr>\n",
       "  </thead>\n",
       "  <tbody>\n",
       "    <tr>\n",
       "      <th>0</th>\n",
       "      <td>15th Street Cafe</td>\n",
       "      <td>78701</td>\n",
       "      <td>12/05/2013</td>\n",
       "      <td>97</td>\n",
       "      <td>303 W 15TH ST\\nAUSTIN, TX 78701\\n(30.277501963...</td>\n",
       "      <td>2801033</td>\n",
       "      <td>Routine Inspection</td>\n",
       "    </tr>\n",
       "    <tr>\n",
       "      <th>1</th>\n",
       "      <td>15th Street Cafe</td>\n",
       "      <td>78701</td>\n",
       "      <td>12/02/2014</td>\n",
       "      <td>93</td>\n",
       "      <td>303 W 15TH ST\\nAUSTIN, TX 78701\\n(30.277501963...</td>\n",
       "      <td>2801033</td>\n",
       "      <td>Routine Inspection</td>\n",
       "    </tr>\n",
       "    <tr>\n",
       "      <th>2</th>\n",
       "      <td>15th Street Cafe</td>\n",
       "      <td>78701</td>\n",
       "      <td>06/18/2014</td>\n",
       "      <td>97</td>\n",
       "      <td>303 W 15TH ST\\nAUSTIN, TX 78701\\n(30.277501963...</td>\n",
       "      <td>2801033</td>\n",
       "      <td>Routine Inspection</td>\n",
       "    </tr>\n",
       "    <tr>\n",
       "      <th>3</th>\n",
       "      <td>15th Street Cafe</td>\n",
       "      <td>78701</td>\n",
       "      <td>05/22/2013</td>\n",
       "      <td>91</td>\n",
       "      <td>303 W 15TH ST\\nAUSTIN, TX 78701\\n(30.277501963...</td>\n",
       "      <td>2801033</td>\n",
       "      <td>Routine Inspection</td>\n",
       "    </tr>\n",
       "    <tr>\n",
       "      <th>4</th>\n",
       "      <td>15th Street Cafe</td>\n",
       "      <td>78701</td>\n",
       "      <td>05/13/2015</td>\n",
       "      <td>97</td>\n",
       "      <td>303 W 15TH ST\\nAUSTIN, TX 78701\\n(30.277501963...</td>\n",
       "      <td>2801033</td>\n",
       "      <td>Routine Inspection</td>\n",
       "    </tr>\n",
       "  </tbody>\n",
       "</table>\n",
       "</div>"
      ],
      "text/plain": [
       "    Restaurant Name  Zip Code Inspection Date  Score  \\\n",
       "0  15th Street Cafe     78701      12/05/2013     97   \n",
       "1  15th Street Cafe     78701      12/02/2014     93   \n",
       "2  15th Street Cafe     78701      06/18/2014     97   \n",
       "3  15th Street Cafe     78701      05/22/2013     91   \n",
       "4  15th Street Cafe     78701      05/13/2015     97   \n",
       "\n",
       "                                             Address  Facility ID  \\\n",
       "0  303 W 15TH ST\\nAUSTIN, TX 78701\\n(30.277501963...      2801033   \n",
       "1  303 W 15TH ST\\nAUSTIN, TX 78701\\n(30.277501963...      2801033   \n",
       "2  303 W 15TH ST\\nAUSTIN, TX 78701\\n(30.277501963...      2801033   \n",
       "3  303 W 15TH ST\\nAUSTIN, TX 78701\\n(30.277501963...      2801033   \n",
       "4  303 W 15TH ST\\nAUSTIN, TX 78701\\n(30.277501963...      2801033   \n",
       "\n",
       "  Process Description  \n",
       "0  Routine Inspection  \n",
       "1  Routine Inspection  \n",
       "2  Routine Inspection  \n",
       "3  Routine Inspection  \n",
       "4  Routine Inspection  "
      ]
     },
     "execution_count": 3,
     "metadata": {},
     "output_type": "execute_result"
    }
   ],
   "source": [
    "df.head()"
   ]
  },
  {
   "cell_type": "code",
   "execution_count": 4,
   "metadata": {
    "collapsed": false
   },
   "outputs": [
    {
     "data": {
      "text/html": [
       "\n",
       "        <iframe\n",
       "            width=\"100%\"\n",
       "            height=\"500\"\n",
       "            src=\"pivottablejs.html\"\n",
       "            frameborder=\"0\"\n",
       "            allowfullscreen\n",
       "        ></iframe>\n",
       "        "
      ],
      "text/plain": [
       "<IPython.lib.display.IFrame at 0x106f9e990>"
      ]
     },
     "execution_count": 4,
     "metadata": {},
     "output_type": "execute_result"
    }
   ],
   "source": [
    "pivot_ui(df)"
   ]
  },
  {
   "cell_type": "code",
   "execution_count": 5,
   "metadata": {
    "collapsed": false
   },
   "outputs": [
    {
     "data": {
      "text/html": [
       "\n",
       "        <iframe\n",
       "            width=\"100%\"\n",
       "            height=\"500\"\n",
       "            src=\"pivottablejs.html\"\n",
       "            frameborder=\"0\"\n",
       "            allowfullscreen\n",
       "        ></iframe>\n",
       "        "
      ],
      "text/plain": [
       "<IPython.lib.display.IFrame at 0x1091ab890>"
      ]
     },
     "execution_count": 5,
     "metadata": {},
     "output_type": "execute_result"
    }
   ],
   "source": [
    "df['bin_score'] = pd.cut(df.Score, bins = np.arange(30, 105, 5))\n",
    "\n",
    "pivot_ui(df[['bin_score', 'Zip Code']])"
   ]
  },
  {
   "cell_type": "code",
   "execution_count": null,
   "metadata": {
    "collapsed": true
   },
   "outputs": [],
   "source": []
  },
  {
   "cell_type": "code",
   "execution_count": null,
   "metadata": {
    "collapsed": true
   },
   "outputs": [],
   "source": []
  },
  {
   "cell_type": "markdown",
   "metadata": {},
   "source": [
    "https://github.com/damianavila/RISE"
   ]
  },
  {
   "cell_type": "code",
   "execution_count": null,
   "metadata": {
    "collapsed": true
   },
   "outputs": [],
   "source": []
  }
 ],
 "metadata": {
  "celltoolbar": "Slideshow",
  "kernelspec": {
   "display_name": "Python 2",
   "language": "python",
   "name": "python2"
  },
  "language_info": {
   "codemirror_mode": {
    "name": "ipython",
    "version": 2
   },
   "file_extension": ".py",
   "mimetype": "text/x-python",
   "name": "python",
   "nbconvert_exporter": "python",
   "pygments_lexer": "ipython2",
   "version": "2.7.10"
  }
 },
 "nbformat": 4,
 "nbformat_minor": 0
}
